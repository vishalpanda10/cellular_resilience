{
 "cells": [
  {
   "cell_type": "code",
   "execution_count": 18,
   "id": "6f2b3cf6-3107-4c1e-bc54-d574e4ee4eef",
   "metadata": {},
   "outputs": [],
   "source": [
    "import os, re\n",
    "os.chdir('/mnt/ufs18/home-230/pandavis/cellular_resilience/CellResilienceModel/codebase/Banksy_py')\n",
    "\n",
    "import numpy as np\n",
    "import pandas as pd\n",
    "from IPython.display import display\n",
    "import warnings\n",
    "warnings.filterwarnings(\"ignore\") \n",
    "\n",
    "import pandas as pd\n",
    "import pickle\n",
    "\n",
    "import scipy.sparse as sparse\n",
    "from scipy.io import mmread\n",
    "from scipy.stats import pearsonr, pointbiserialr\n",
    "\n",
    "import matplotlib as mpl\n",
    "import matplotlib.pyplot as plt\n",
    "import matplotlib.gridspec as gridspec\n",
    "from matplotlib.lines import Line2D\n",
    "\n",
    "import seaborn as sns\n",
    "import scanpy as sc\n",
    "\n",
    "\n",
    "import random\n",
    "seed = 42\n",
    "np.random.seed(seed)\n",
    "random.seed(seed)"
   ]
  },
  {
   "cell_type": "code",
   "execution_count": 19,
   "id": "a291f087-0d47-4d87-b573-8933d803650a",
   "metadata": {},
   "outputs": [
    {
     "data": {
      "text/plain": [
       "'/mnt/ufs18/home-230/pandavis/cellular_resilience/CellResilienceModel/codebase/Banksy_py'"
      ]
     },
     "execution_count": 19,
     "metadata": {},
     "output_type": "execute_result"
    }
   ],
   "source": [
    "pwd"
   ]
  },
  {
   "cell_type": "code",
   "execution_count": 22,
   "id": "d5e01cbe-3291-4bda-bb38-8eb5fbf6cdea",
   "metadata": {},
   "outputs": [
    {
     "data": {
      "text/plain": [
       "AnnData object with n_obs × n_vars = 167782 × 313\n",
       "    var: 'gene_ids', 'feature_types', 'genome'"
      ]
     },
     "execution_count": 22,
     "metadata": {},
     "output_type": "execute_result"
    }
   ],
   "source": [
    "adata = sc.read_10x_h5('../../data/BreastCancer10xGenomics_Rep1/Xenium_FFPE_Human_Breast_Cancer_Rep1_cell_feature_matrix.h5')\n",
    "adata"
   ]
  },
  {
   "cell_type": "code",
   "execution_count": 23,
   "id": "281cb746-b845-43c6-8d50-efb8dcbf5d16",
   "metadata": {},
   "outputs": [],
   "source": [
    "#adata.to_df().to_csv('Xenium_FFPE_Human_Breast_Cancer_Rep1_cell_feature.csv')"
   ]
  },
  {
   "cell_type": "code",
   "execution_count": 24,
   "id": "2b12f358-e8cc-4457-b471-792932299d1d",
   "metadata": {},
   "outputs": [],
   "source": [
    "#!git clone https://github.com/prabhakarlab/Banksy_py.git"
   ]
  },
  {
   "cell_type": "code",
   "execution_count": 25,
   "id": "ef1ae723-c8d8-4c7a-9c2d-cedc5fd2129e",
   "metadata": {},
   "outputs": [
    {
     "data": {
      "text/html": [
       "<div>\n",
       "<style scoped>\n",
       "    .dataframe tbody tr th:only-of-type {\n",
       "        vertical-align: middle;\n",
       "    }\n",
       "\n",
       "    .dataframe tbody tr th {\n",
       "        vertical-align: top;\n",
       "    }\n",
       "\n",
       "    .dataframe thead th {\n",
       "        text-align: right;\n",
       "    }\n",
       "</style>\n",
       "<table border=\"1\" class=\"dataframe\">\n",
       "  <thead>\n",
       "    <tr style=\"text-align: right;\">\n",
       "      <th></th>\n",
       "      <th>ABCC11</th>\n",
       "      <th>ACTA2</th>\n",
       "      <th>ACTG2</th>\n",
       "      <th>ADAM9</th>\n",
       "      <th>ADGRE5</th>\n",
       "      <th>ADH1B</th>\n",
       "      <th>ADIPOQ</th>\n",
       "      <th>AGR3</th>\n",
       "      <th>AHSP</th>\n",
       "      <th>AIF1</th>\n",
       "      <th>...</th>\n",
       "      <th>TUBB2B</th>\n",
       "      <th>TYROBP</th>\n",
       "      <th>UCP1</th>\n",
       "      <th>USP53</th>\n",
       "      <th>VOPP1</th>\n",
       "      <th>VWF</th>\n",
       "      <th>WARS</th>\n",
       "      <th>ZEB1</th>\n",
       "      <th>ZEB2</th>\n",
       "      <th>ZNF562</th>\n",
       "    </tr>\n",
       "  </thead>\n",
       "  <tbody>\n",
       "    <tr>\n",
       "      <th>1</th>\n",
       "      <td>0.0</td>\n",
       "      <td>3.0</td>\n",
       "      <td>1.0</td>\n",
       "      <td>0.0</td>\n",
       "      <td>0.0</td>\n",
       "      <td>0.0</td>\n",
       "      <td>0.0</td>\n",
       "      <td>0.0</td>\n",
       "      <td>0.0</td>\n",
       "      <td>0.0</td>\n",
       "      <td>...</td>\n",
       "      <td>0.0</td>\n",
       "      <td>1.0</td>\n",
       "      <td>0.0</td>\n",
       "      <td>1.0</td>\n",
       "      <td>1.0</td>\n",
       "      <td>0.0</td>\n",
       "      <td>0.0</td>\n",
       "      <td>0.0</td>\n",
       "      <td>6.0</td>\n",
       "      <td>1.0</td>\n",
       "    </tr>\n",
       "    <tr>\n",
       "      <th>2</th>\n",
       "      <td>0.0</td>\n",
       "      <td>0.0</td>\n",
       "      <td>0.0</td>\n",
       "      <td>0.0</td>\n",
       "      <td>1.0</td>\n",
       "      <td>0.0</td>\n",
       "      <td>0.0</td>\n",
       "      <td>0.0</td>\n",
       "      <td>0.0</td>\n",
       "      <td>0.0</td>\n",
       "      <td>...</td>\n",
       "      <td>0.0</td>\n",
       "      <td>0.0</td>\n",
       "      <td>0.0</td>\n",
       "      <td>0.0</td>\n",
       "      <td>0.0</td>\n",
       "      <td>0.0</td>\n",
       "      <td>0.0</td>\n",
       "      <td>0.0</td>\n",
       "      <td>1.0</td>\n",
       "      <td>0.0</td>\n",
       "    </tr>\n",
       "    <tr>\n",
       "      <th>3</th>\n",
       "      <td>0.0</td>\n",
       "      <td>0.0</td>\n",
       "      <td>0.0</td>\n",
       "      <td>0.0</td>\n",
       "      <td>1.0</td>\n",
       "      <td>0.0</td>\n",
       "      <td>0.0</td>\n",
       "      <td>0.0</td>\n",
       "      <td>0.0</td>\n",
       "      <td>0.0</td>\n",
       "      <td>...</td>\n",
       "      <td>0.0</td>\n",
       "      <td>0.0</td>\n",
       "      <td>0.0</td>\n",
       "      <td>0.0</td>\n",
       "      <td>0.0</td>\n",
       "      <td>0.0</td>\n",
       "      <td>0.0</td>\n",
       "      <td>0.0</td>\n",
       "      <td>0.0</td>\n",
       "      <td>0.0</td>\n",
       "    </tr>\n",
       "    <tr>\n",
       "      <th>4</th>\n",
       "      <td>1.0</td>\n",
       "      <td>1.0</td>\n",
       "      <td>0.0</td>\n",
       "      <td>3.0</td>\n",
       "      <td>0.0</td>\n",
       "      <td>0.0</td>\n",
       "      <td>0.0</td>\n",
       "      <td>0.0</td>\n",
       "      <td>0.0</td>\n",
       "      <td>0.0</td>\n",
       "      <td>...</td>\n",
       "      <td>0.0</td>\n",
       "      <td>0.0</td>\n",
       "      <td>0.0</td>\n",
       "      <td>1.0</td>\n",
       "      <td>0.0</td>\n",
       "      <td>0.0</td>\n",
       "      <td>0.0</td>\n",
       "      <td>0.0</td>\n",
       "      <td>0.0</td>\n",
       "      <td>0.0</td>\n",
       "    </tr>\n",
       "    <tr>\n",
       "      <th>5</th>\n",
       "      <td>0.0</td>\n",
       "      <td>1.0</td>\n",
       "      <td>0.0</td>\n",
       "      <td>0.0</td>\n",
       "      <td>0.0</td>\n",
       "      <td>0.0</td>\n",
       "      <td>0.0</td>\n",
       "      <td>0.0</td>\n",
       "      <td>0.0</td>\n",
       "      <td>0.0</td>\n",
       "      <td>...</td>\n",
       "      <td>1.0</td>\n",
       "      <td>0.0</td>\n",
       "      <td>0.0</td>\n",
       "      <td>0.0</td>\n",
       "      <td>1.0</td>\n",
       "      <td>0.0</td>\n",
       "      <td>0.0</td>\n",
       "      <td>0.0</td>\n",
       "      <td>0.0</td>\n",
       "      <td>1.0</td>\n",
       "    </tr>\n",
       "  </tbody>\n",
       "</table>\n",
       "<p>5 rows × 313 columns</p>\n",
       "</div>"
      ],
      "text/plain": [
       "   ABCC11  ACTA2  ACTG2  ADAM9  ADGRE5  ADH1B  ADIPOQ  AGR3  AHSP  AIF1  ...  \\\n",
       "1     0.0    3.0    1.0    0.0     0.0    0.0     0.0   0.0   0.0   0.0  ...   \n",
       "2     0.0    0.0    0.0    0.0     1.0    0.0     0.0   0.0   0.0   0.0  ...   \n",
       "3     0.0    0.0    0.0    0.0     1.0    0.0     0.0   0.0   0.0   0.0  ...   \n",
       "4     1.0    1.0    0.0    3.0     0.0    0.0     0.0   0.0   0.0   0.0  ...   \n",
       "5     0.0    1.0    0.0    0.0     0.0    0.0     0.0   0.0   0.0   0.0  ...   \n",
       "\n",
       "   TUBB2B  TYROBP  UCP1  USP53  VOPP1  VWF  WARS  ZEB1  ZEB2  ZNF562  \n",
       "1     0.0     1.0   0.0    1.0    1.0  0.0   0.0   0.0   6.0     1.0  \n",
       "2     0.0     0.0   0.0    0.0    0.0  0.0   0.0   0.0   1.0     0.0  \n",
       "3     0.0     0.0   0.0    0.0    0.0  0.0   0.0   0.0   0.0     0.0  \n",
       "4     0.0     0.0   0.0    1.0    0.0  0.0   0.0   0.0   0.0     0.0  \n",
       "5     1.0     0.0   0.0    0.0    1.0  0.0   0.0   0.0   0.0     1.0  \n",
       "\n",
       "[5 rows x 313 columns]"
      ]
     },
     "execution_count": 25,
     "metadata": {},
     "output_type": "execute_result"
    }
   ],
   "source": [
    "adata.to_df().head()"
   ]
  },
  {
   "cell_type": "code",
   "execution_count": 26,
   "id": "b661b925-c044-4750-829d-51a50790b6d1",
   "metadata": {},
   "outputs": [
    {
     "data": {
      "text/html": [
       "<div>\n",
       "<style scoped>\n",
       "    .dataframe tbody tr th:only-of-type {\n",
       "        vertical-align: middle;\n",
       "    }\n",
       "\n",
       "    .dataframe tbody tr th {\n",
       "        vertical-align: top;\n",
       "    }\n",
       "\n",
       "    .dataframe thead th {\n",
       "        text-align: right;\n",
       "    }\n",
       "</style>\n",
       "<table border=\"1\" class=\"dataframe\">\n",
       "  <thead>\n",
       "    <tr style=\"text-align: right;\">\n",
       "      <th></th>\n",
       "      <th>x_centroid</th>\n",
       "      <th>y_centroid</th>\n",
       "      <th>transcript_counts</th>\n",
       "      <th>control_probe_counts</th>\n",
       "      <th>control_codeword_counts</th>\n",
       "      <th>total_counts</th>\n",
       "      <th>cell_area</th>\n",
       "      <th>nucleus_area</th>\n",
       "    </tr>\n",
       "    <tr>\n",
       "      <th>cell_id</th>\n",
       "      <th></th>\n",
       "      <th></th>\n",
       "      <th></th>\n",
       "      <th></th>\n",
       "      <th></th>\n",
       "      <th></th>\n",
       "      <th></th>\n",
       "      <th></th>\n",
       "    </tr>\n",
       "  </thead>\n",
       "  <tbody>\n",
       "    <tr>\n",
       "      <th>1</th>\n",
       "      <td>377.663005</td>\n",
       "      <td>843.541888</td>\n",
       "      <td>154</td>\n",
       "      <td>0</td>\n",
       "      <td>0</td>\n",
       "      <td>154</td>\n",
       "      <td>110.361875</td>\n",
       "      <td>45.562656</td>\n",
       "    </tr>\n",
       "    <tr>\n",
       "      <th>2</th>\n",
       "      <td>382.078658</td>\n",
       "      <td>858.944818</td>\n",
       "      <td>64</td>\n",
       "      <td>0</td>\n",
       "      <td>0</td>\n",
       "      <td>64</td>\n",
       "      <td>87.919219</td>\n",
       "      <td>24.248906</td>\n",
       "    </tr>\n",
       "    <tr>\n",
       "      <th>3</th>\n",
       "      <td>319.839529</td>\n",
       "      <td>869.196542</td>\n",
       "      <td>57</td>\n",
       "      <td>0</td>\n",
       "      <td>0</td>\n",
       "      <td>57</td>\n",
       "      <td>52.561875</td>\n",
       "      <td>23.526406</td>\n",
       "    </tr>\n",
       "  </tbody>\n",
       "</table>\n",
       "</div>"
      ],
      "text/plain": [
       "         x_centroid  y_centroid  transcript_counts  control_probe_counts  \\\n",
       "cell_id                                                                    \n",
       "1        377.663005  843.541888                154                     0   \n",
       "2        382.078658  858.944818                 64                     0   \n",
       "3        319.839529  869.196542                 57                     0   \n",
       "\n",
       "         control_codeword_counts  total_counts   cell_area  nucleus_area  \n",
       "cell_id                                                                   \n",
       "1                              0           154  110.361875     45.562656  \n",
       "2                              0            64   87.919219     24.248906  \n",
       "3                              0            57   52.561875     23.526406  "
      ]
     },
     "execution_count": 26,
     "metadata": {},
     "output_type": "execute_result"
    }
   ],
   "source": [
    "#cell_data = pd.read_parquet('../../data/BreastCancer10xGenomics_Rep1/cells.parquet')\n",
    "cell_data = pd.read_csv('../../data/BreastCancer10xGenomics_Rep1/Xenium_FFPE_Human_Breast_Cancer_Rep1_cells.csv', index_col=0)\n",
    "#cell_data.set_index(cell_data.columns[0], inplace=True)\n",
    "cell_data.index = cell_data.index.astype(str)\n",
    "cell_data.head(3)"
   ]
  },
  {
   "cell_type": "code",
   "execution_count": 27,
   "id": "b2becfac-e099-45a0-88b4-b1c8e8e2364e",
   "metadata": {},
   "outputs": [
    {
     "data": {
      "text/html": [
       "<div>\n",
       "<style scoped>\n",
       "    .dataframe tbody tr th:only-of-type {\n",
       "        vertical-align: middle;\n",
       "    }\n",
       "\n",
       "    .dataframe tbody tr th {\n",
       "        vertical-align: top;\n",
       "    }\n",
       "\n",
       "    .dataframe thead th {\n",
       "        text-align: right;\n",
       "    }\n",
       "</style>\n",
       "<table border=\"1\" class=\"dataframe\">\n",
       "  <thead>\n",
       "    <tr style=\"text-align: right;\">\n",
       "      <th></th>\n",
       "      <th>seurat_clusters</th>\n",
       "      <th>celltype</th>\n",
       "    </tr>\n",
       "  </thead>\n",
       "  <tbody>\n",
       "    <tr>\n",
       "      <th>1</th>\n",
       "      <td>4</td>\n",
       "      <td>Macrophages</td>\n",
       "    </tr>\n",
       "    <tr>\n",
       "      <th>2</th>\n",
       "      <td>1</td>\n",
       "      <td>T cells</td>\n",
       "    </tr>\n",
       "    <tr>\n",
       "      <th>3</th>\n",
       "      <td>1</td>\n",
       "      <td>T cells</td>\n",
       "    </tr>\n",
       "  </tbody>\n",
       "</table>\n",
       "</div>"
      ],
      "text/plain": [
       "   seurat_clusters       celltype\n",
       "1                4  Macrophages  \n",
       "2                1      T cells  \n",
       "3                1      T cells  "
      ]
     },
     "execution_count": 27,
     "metadata": {},
     "output_type": "execute_result"
    }
   ],
   "source": [
    "cell_annotations = pd.read_csv('../../data/BreastCancer10xGenomics_Rep1/exported_data/BreastCancer10XGenomics_Rep1_cells_annotated.csv', index_col=0)\n",
    "cell_annotations.index = cell_annotations.index.astype(str)\n",
    "cell_annotations.head(3)"
   ]
  },
  {
   "cell_type": "code",
   "execution_count": 28,
   "id": "4e50c1df-03eb-4138-a8c5-240900e87193",
   "metadata": {},
   "outputs": [],
   "source": [
    "cell_index = list(adata.obs.index.astype(str))"
   ]
  },
  {
   "cell_type": "code",
   "execution_count": 29,
   "id": "ac395395-1cfd-4731-811f-30b41902dc0f",
   "metadata": {},
   "outputs": [],
   "source": [
    "cell_data = cell_data.loc[cell_index, :]\n",
    "cell_annotations = cell_annotations.loc[cell_index,:]"
   ]
  },
  {
   "cell_type": "code",
   "execution_count": 30,
   "id": "d26eb5a8-7cf6-4018-9715-3efbcc625a07",
   "metadata": {},
   "outputs": [],
   "source": [
    "adata.obs['celltype'] = cell_annotations['celltype']\n",
    "adata.obs[['x_centroid', 'y_centroid']] = cell_data[['x_centroid', 'y_centroid']]\n",
    "adata.obsm['coord_xy'] = np.array(adata.obs[['x_centroid', 'y_centroid']])"
   ]
  },
  {
   "cell_type": "code",
   "execution_count": 34,
   "id": "fb5c5a83-87ff-4af0-a6e8-c84bbfb94607",
   "metadata": {},
   "outputs": [
    {
     "data": {
      "text/plain": [
       "AnnData object with n_obs × n_vars = 156831 × 313\n",
       "    obs: 'celltype', 'x_centroid', 'y_centroid', 'n_genes_by_counts', 'log1p_n_genes_by_counts', 'total_counts', 'log1p_total_counts', 'pct_counts_in_top_10_genes', 'pct_counts_in_top_50_genes', 'pct_counts_in_top_100_genes', 'total_counts_mt', 'log1p_total_counts_mt', 'pct_counts_mt', 'n_counts'\n",
       "    var: 'gene_ids', 'feature_types', 'genome', 'mt', 'n_cells_by_counts', 'mean_counts', 'log1p_mean_counts', 'pct_dropout_by_counts', 'total_counts', 'log1p_total_counts', 'n_cells'\n",
       "    obsm: 'coord_xy'"
      ]
     },
     "execution_count": 34,
     "metadata": {},
     "output_type": "execute_result"
    }
   ],
   "source": [
    "adata"
   ]
  },
  {
   "cell_type": "code",
   "execution_count": 31,
   "id": "bb666237-8755-4b05-b613-f33ccec4bb3b",
   "metadata": {},
   "outputs": [],
   "source": [
    "from banksy_utils.load_data import load_adata, display_adata\n",
    "from banksy_utils.filter_utils import filter_cells\n",
    "from banksy_utils.filter_utils import normalize_total, filter_hvg, print_max_min\n",
    "from banksy.main import median_dist_to_nearest_neighbour\n",
    "from banksy.main import median_dist_to_nearest_neighbour\n",
    "from banksy.initialize_banksy import initialize_banksy\n",
    "from banksy.embed_banksy import generate_banksy_matrix\n",
    "from banksy.main import concatenate_all\n",
    "from banksy_utils.umap_pca import pca_umap\n",
    "from banksy.cluster_methods import run_Leiden_partition"
   ]
  },
  {
   "cell_type": "code",
   "execution_count": 32,
   "id": "ffa5ef9f-0a93-4d36-b30c-dc92cce82e56",
   "metadata": {},
   "outputs": [],
   "source": [
    "adata.var_names_make_unique()\n",
    "adata.var[\"mt\"] = adata.var_names.str.startswith(\"MT-\")\n",
    "\n",
    "sc.pp.calculate_qc_metrics(\n",
    "    adata,\n",
    "    qc_vars=[\"mt\"],      \n",
    "    log1p=True,          \n",
    "    inplace=True,      \n",
    "    percent_top=[10, 50, 100]  \n",
    ")"
   ]
  },
  {
   "cell_type": "code",
   "execution_count": 33,
   "id": "104d14dd-da6d-42d1-aee1-21bc9581d9d7",
   "metadata": {},
   "outputs": [
    {
     "name": "stdout",
     "output_type": "stream",
     "text": [
      "Cells before filtering: 167782\n",
      "\n",
      "Cells after count filter: 156831\n",
      "\n",
      "cells after MT filter: 156831\n",
      "\n",
      "Genes after minimum cells per gene filter: 313\n",
      "\n"
     ]
    }
   ],
   "source": [
    "adata = filter_cells(adata, \n",
    "             min_count=40, \n",
    "             max_count=1000, \n",
    "             MT_filter=20, \n",
    "             gene_filter=10)"
   ]
  },
  {
   "cell_type": "code",
   "execution_count": 35,
   "id": "69434537-f8cc-4e73-92f9-95a080d70ebb",
   "metadata": {},
   "outputs": [
    {
     "name": "stdout",
     "output_type": "stream",
     "text": [
      "--- Max-Min before normalization -----\n",
      "Displaying max and min of Dataset\n",
      "Max: 170.0, Min: 0.0\n",
      "\n",
      "--- Max-Min after normalization -----\n",
      "Displaying max and min of Dataset\n",
      "Max: 76.86363220214844, Min: 0.0\n",
      "\n",
      "--- Normalized and log-transformed data -----\n",
      "Displaying max and min of Dataset\n",
      "Max: 4.354959011077881, Min: 0.0\n",
      "\n",
      "Displaying dataset after filtering by HVG\n",
      "View of AnnData object with n_obs × n_vars = 156831 × 300\n",
      "    obs: 'celltype', 'x_centroid', 'y_centroid', 'n_genes_by_counts', 'log1p_n_genes_by_counts', 'total_counts', 'log1p_total_counts', 'pct_counts_in_top_10_genes', 'pct_counts_in_top_50_genes', 'pct_counts_in_top_100_genes', 'total_counts_mt', 'log1p_total_counts_mt', 'pct_counts_mt', 'n_counts'\n",
      "    var: 'gene_ids', 'feature_types', 'genome', 'mt', 'n_cells_by_counts', 'mean_counts', 'log1p_mean_counts', 'pct_dropout_by_counts', 'total_counts', 'log1p_total_counts', 'n_cells'\n",
      "    obsm: 'coord_xy'\n"
     ]
    }
   ],
   "source": [
    "adata = normalize_total(adata)\n",
    "\n",
    "adata, adata_allgenes = filter_hvg(adata,\n",
    "            n_top_genes = 300,\n",
    "            flavor=\"seurat\")"
   ]
  },
  {
   "cell_type": "code",
   "execution_count": 36,
   "id": "80fc9f36-026e-4f84-9e7b-c1fb636616f5",
   "metadata": {},
   "outputs": [
    {
     "name": "stdout",
     "output_type": "stream",
     "text": [
      "\n",
      "Median distance to closest cell = 9.68733903271435\n",
      "\n",
      "---- Ran median_dist_to_nearest_neighbour in 0.55 s ----\n",
      "\n"
     ]
    }
   ],
   "source": [
    "coord_keys = ('x_centroid', 'y_centroid', 'coord_xy')\n",
    "\n",
    "plot_graph_weights = True\n",
    "k_geom = 15 # only for fixed type\n",
    "max_m = 1 # azumithal transform up to kth order\n",
    "nbr_weight_decay = \"scaled_gaussian\" # can also be \"reciprocal\", \"uniform\" or \"ranked\"\n",
    "\n",
    "# Find median distance to closest neighbours, the median distance will be `sigma`\n",
    "nbrs = median_dist_to_nearest_neighbour(adata, key = coord_keys[2])"
   ]
  },
  {
   "cell_type": "code",
   "execution_count": 37,
   "id": "eb19391d-b22e-47f7-ba4b-6abe7bb6c48b",
   "metadata": {},
   "outputs": [
    {
     "name": "stdout",
     "output_type": "stream",
     "text": [
      "\n",
      "Median distance to closest cell = 9.68733903271435\n",
      "\n",
      "---- Ran median_dist_to_nearest_neighbour in 0.54 s ----\n",
      "\n",
      "---- Ran generate_spatial_distance_graph in 1.16 s ----\n",
      "\n",
      "---- Ran row_normalize in 0.51 s ----\n",
      "\n",
      "---- Ran generate_spatial_weights_fixed_nbrs in 5.92 s ----\n",
      "\n",
      "---- Ran generate_spatial_distance_graph in 1.77 s ----\n",
      "\n",
      "---- Ran theta_from_spatial_graph in 2.67 s ----\n",
      "\n",
      "---- Ran row_normalize in 0.52 s ----\n",
      "\n",
      "---- Ran generate_spatial_weights_fixed_nbrs in 9.97 s ----\n",
      "\n"
     ]
    }
   ],
   "source": [
    "banksy_dict = initialize_banksy(\n",
    "    adata,\n",
    "    coord_keys,\n",
    "    k_geom,\n",
    "    nbr_weight_decay=nbr_weight_decay,\n",
    "    max_m=max_m,\n",
    "    plt_edge_hist=False,\n",
    "    plt_nbr_weights=False,\n",
    "    plt_agf_angles=False, # takes long time to plot\n",
    "    plt_theta=False,\n",
    ")"
   ]
  },
  {
   "cell_type": "code",
   "execution_count": 38,
   "id": "63ec66b4-46c2-49e5-8a52-fd37202f6cc3",
   "metadata": {},
   "outputs": [
    {
     "name": "stdout",
     "output_type": "stream",
     "text": [
      "Runtime Jan-03-2025-12-16\n",
      "\n",
      "300 genes to be analysed:\n",
      "Gene List:\n",
      "Index(['ABCC11', 'ACTA2', 'ACTG2', 'ADAM9', 'ADGRE5', 'ADH1B', 'ADIPOQ',\n",
      "       'AGR3', 'AHSP', 'AIF1',\n",
      "       ...\n",
      "       'TUBB2B', 'TYROBP', 'UCP1', 'USP53', 'VOPP1', 'VWF', 'WARS', 'ZEB1',\n",
      "       'ZEB2', 'ZNF562'],\n",
      "      dtype='object', length=300)\n",
      "\n",
      "Check if X contains only finite (non-NAN) values\n",
      "Decay Type: scaled_gaussian\n",
      "Weights Object: {'weights': {0: <156831x156831 sparse matrix of type '<class 'numpy.float64'>'\n",
      "\twith 2352465 stored elements in Compressed Sparse Row format>, 1: <156831x156831 sparse matrix of type '<class 'numpy.complex128'>'\n",
      "\twith 4704930 stored elements in Compressed Sparse Row format>}}\n",
      "\n",
      "Nbr matrix | Mean: 0.57 | Std: 1.44\n",
      "Size of Nbr | Shape: (156831, 300)\n",
      "Top 3 entries of Nbr Mat:\n",
      "\n",
      "[[0.         2.98229855 1.93571754]\n",
      " [0.24420866 4.06143617 2.0743679 ]\n",
      " [0.05468251 1.94259636 2.05182258]]\n",
      "\n",
      "AGF matrix | Mean: 0.17 | Std: 0.31\n",
      "Size of AGF mat (m = 1) | Shape: (156831, 300)\n",
      "Top entries of AGF:\n",
      "[[0.03607777 0.72796634 0.75724635]\n",
      " [0.16520567 0.66484908 0.62970756]\n",
      " [0.13047737 0.19243388 0.3917343 ]]\n",
      "Ran 'Create BANKSY Matrix' in 0.62 mins\n",
      "\n",
      "Cell by gene matrix has shape (156831, 300)\n",
      "\n",
      "Scale factors squared: [0.8        0.13333333 0.06666667]\n",
      "Scale factors: [0.89442719 0.36514837 0.25819889]\n",
      "Shape of BANKSY matrix: (156831, 900)\n",
      "Type of banksy_matrix: <class 'anndata._core.anndata.AnnData'>\n",
      "\n"
     ]
    }
   ],
   "source": [
    "resolutions = [0.7] # clustering resolution for UMAP\n",
    "pca_dims = [20] # Dimensionality in which PCA reduces to\n",
    "lambda_list = [0.2] # list of lambda parameters\n",
    "\n",
    "banksy_dict, banksy_matrix = generate_banksy_matrix(adata, banksy_dict, lambda_list, max_m)"
   ]
  },
  {
   "cell_type": "code",
   "execution_count": null,
   "id": "da15fe84-9475-472d-bc8a-9235100c1730",
   "metadata": {},
   "outputs": [],
   "source": []
  },
  {
   "cell_type": "code",
   "execution_count": 39,
   "id": "c447d005-964d-4b19-9806-441214866e22",
   "metadata": {},
   "outputs": [],
   "source": [
    "with open(\"../../data/BreastCancer10xGenomics_Rep1/exported_data/banksy_dict.pkl\", \"wb\") as f:\n",
    "    pickle.dump(banksy_dict, f)\n",
    "\n",
    "banksy_matrix.write('../../data/BreastCancer10xGenomics_Rep1/exported_data/banksy_matrix.h5ad')"
   ]
  },
  {
   "cell_type": "code",
   "execution_count": 19,
   "id": "a36100ce-912e-493b-b5f7-b1305dccb0e6",
   "metadata": {},
   "outputs": [
    {
     "name": "stdout",
     "output_type": "stream",
     "text": [
      "Scale factors squared: [1.]\n",
      "Scale factors: [1.]\n",
      "AnnData object with n_obs × n_vars = 537180 × 300\n",
      "    obs: 'celltype', 'x_centroid', 'y_centroid', 'n_genes_by_counts', 'log1p_n_genes_by_counts', 'total_counts', 'log1p_total_counts', 'pct_counts_in_top_10_genes', 'pct_counts_in_top_50_genes', 'pct_counts_in_top_100_genes', 'total_counts_mt', 'log1p_total_counts_mt', 'pct_counts_mt', 'n_counts'\n",
      "    var: 'gene_ids', 'feature_types', 'genome', 'mt', 'n_cells_by_counts', 'mean_counts', 'log1p_mean_counts', 'pct_dropout_by_counts', 'total_counts', 'log1p_total_counts', 'n_cells', 'is_nbr', 'k'\n"
     ]
    }
   ],
   "source": [
    "banksy_dict[\"nonspatial\"] = {\n",
    "    0.0: {\"adata\": concatenate_all([adata.X], 0, adata=adata), }\n",
    "}\n",
    "\n",
    "print(banksy_dict['nonspatial'][0.0]['adata'])"
   ]
  },
  {
   "cell_type": "code",
   "execution_count": null,
   "id": "3ab83192-51e9-48b8-bbfe-32aa920c0365",
   "metadata": {},
   "outputs": [
    {
     "name": "stdout",
     "output_type": "stream",
     "text": [
      "Current decay types: ['scaled_gaussian', 'nonspatial']\n",
      "\n",
      "Reducing dims of dataset in (Index = scaled_gaussian, lambda = 0.2)\n",
      "==================================================\n",
      "\n",
      "Setting the total number of PC = 20\n",
      "Original shape of matrix: (537180, 900)\n",
      "Reduced shape of matrix: (537180, 20)\n",
      "------------------------------------------------------------\n",
      "min_value = -27.728579701585243, mean = 5.271650919259342e-16, max = 59.229836345794375\n",
      "\n",
      "Conducting UMAP and adding embeddings to adata.obsm[\"reduced_pc_20_umap\"]\n"
     ]
    }
   ],
   "source": [
    "pca_umap(banksy_dict,\n",
    "         pca_dims = pca_dims,\n",
    "         add_umap = True,\n",
    "         plt_remaining_var = False,\n",
    "         )"
   ]
  },
  {
   "cell_type": "code",
   "execution_count": null,
   "id": "0610e06c-16fc-41ad-a145-5f94873b5004",
   "metadata": {},
   "outputs": [],
   "source": [
    "results_df, max_num_labels = run_Leiden_partition(\n",
    "    banksy_dict,\n",
    "    resolutions,\n",
    "    num_nn = 50,\n",
    "    num_iterations = -1,\n",
    "    partition_seed = seed,\n",
    "    match_labels = True,\n",
    ")"
   ]
  },
  {
   "cell_type": "code",
   "execution_count": null,
   "id": "3a3f1c25-e073-42fa-9456-dec10170a110",
   "metadata": {},
   "outputs": [],
   "source": []
  },
  {
   "cell_type": "code",
   "execution_count": null,
   "id": "313f2613-6ce9-4849-bf1c-2737823549aa",
   "metadata": {},
   "outputs": [],
   "source": []
  },
  {
   "cell_type": "code",
   "execution_count": null,
   "id": "1bd4510b-9c69-4941-ba80-9ef5f492c93d",
   "metadata": {},
   "outputs": [],
   "source": []
  },
  {
   "cell_type": "code",
   "execution_count": null,
   "id": "a3a00a8a-6076-4311-b0a1-f333d3e2d8c1",
   "metadata": {},
   "outputs": [],
   "source": []
  },
  {
   "cell_type": "code",
   "execution_count": null,
   "id": "b75d46d7-8e70-4259-9f9a-8cd0004e541d",
   "metadata": {},
   "outputs": [],
   "source": []
  },
  {
   "cell_type": "code",
   "execution_count": null,
   "id": "1e066b0a-5c86-446a-b48a-6a0ef6834f17",
   "metadata": {},
   "outputs": [],
   "source": []
  },
  {
   "cell_type": "code",
   "execution_count": null,
   "id": "237c9ecc-24f9-44e7-a922-a88ac9dd5530",
   "metadata": {},
   "outputs": [],
   "source": []
  },
  {
   "cell_type": "code",
   "execution_count": null,
   "id": "fe4a9502-e3cb-4886-a67d-2fb0ac596e6e",
   "metadata": {},
   "outputs": [],
   "source": []
  },
  {
   "cell_type": "code",
   "execution_count": null,
   "id": "dac4200d-96fc-45f7-84e7-3cbf7b875958",
   "metadata": {},
   "outputs": [],
   "source": []
  },
  {
   "cell_type": "code",
   "execution_count": null,
   "id": "198a6ef8-9f01-4e0f-ad32-073280fb39a1",
   "metadata": {},
   "outputs": [],
   "source": []
  },
  {
   "cell_type": "code",
   "execution_count": null,
   "id": "e8fa06b4-c651-4456-90e4-dffa92471a18",
   "metadata": {},
   "outputs": [],
   "source": []
  },
  {
   "cell_type": "code",
   "execution_count": null,
   "id": "246ed32a-74e3-445a-9311-5c14f458cd6a",
   "metadata": {},
   "outputs": [],
   "source": []
  },
  {
   "cell_type": "code",
   "execution_count": null,
   "id": "acc303d3-72da-4d83-888f-b8df1460d303",
   "metadata": {},
   "outputs": [],
   "source": []
  },
  {
   "cell_type": "code",
   "execution_count": null,
   "id": "cef49db9-40ff-4a98-a31f-a6413dc94bd3",
   "metadata": {},
   "outputs": [],
   "source": []
  },
  {
   "cell_type": "code",
   "execution_count": null,
   "id": "8926b91d-33e3-48ae-bda4-9326148bf858",
   "metadata": {},
   "outputs": [],
   "source": []
  },
  {
   "cell_type": "code",
   "execution_count": null,
   "id": "d95e8dcf-d8e8-4351-99ac-888b8c1c4c8e",
   "metadata": {},
   "outputs": [],
   "source": []
  }
 ],
 "metadata": {
  "kernelspec": {
   "display_name": "Python 3 (ipykernel)",
   "language": "python",
   "name": "python3"
  },
  "language_info": {
   "codemirror_mode": {
    "name": "ipython",
    "version": 3
   },
   "file_extension": ".py",
   "mimetype": "text/x-python",
   "name": "python",
   "nbconvert_exporter": "python",
   "pygments_lexer": "ipython3",
   "version": "3.11.5"
  }
 },
 "nbformat": 4,
 "nbformat_minor": 5
}
