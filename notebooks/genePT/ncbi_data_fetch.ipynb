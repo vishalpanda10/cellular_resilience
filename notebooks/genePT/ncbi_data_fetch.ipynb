{
 "cells": [
  {
   "cell_type": "code",
   "execution_count": 4,
   "id": "336dd9ae-c3ae-49ff-8efc-3e7d901ab3fe",
   "metadata": {},
   "outputs": [],
   "source": [
    "import requests\n",
    "from bs4 import BeautifulSoup\n",
    "import html2text\n",
    "import json\n",
    "import pickle\n",
    "import multiprocessing as mp\n",
    "from tqdm import tqdm\n",
    "\n",
    "import mygene\n",
    "mg = mygene.MyGeneInfo()\n",
    "\n",
    "import scanpy as sc"
   ]
  },
  {
   "cell_type": "code",
   "execution_count": 2,
   "id": "89525a03-5ad1-4a78-abbd-f4e2b91a10bb",
   "metadata": {},
   "outputs": [
    {
     "data": {
      "text/plain": [
       "'/mnt/ufs18/home-230/pandavis/cellular_resilience/CellResilienceModel/codebase/notebooks/genePT'"
      ]
     },
     "execution_count": 2,
     "metadata": {},
     "output_type": "execute_result"
    }
   ],
   "source": [
    "pwd"
   ]
  },
  {
   "cell_type": "code",
   "execution_count": 7,
   "id": "5c10cad7-cee9-4fad-9fbd-f14eaff520f5",
   "metadata": {},
   "outputs": [
    {
     "data": {
      "text/plain": [
       "AnnData object with n_obs × n_vars = 167782 × 313\n",
       "    var: 'gene_ids', 'feature_types', 'genome'"
      ]
     },
     "execution_count": 7,
     "metadata": {},
     "output_type": "execute_result"
    }
   ],
   "source": [
    "adata = sc.read_10x_h5('../../../data/BreastCancer10xGenomics_Rep1/Xenium_FFPE_Human_Breast_Cancer_Rep1_cell_feature_matrix.h5')\n",
    "adata"
   ]
  },
  {
   "cell_type": "code",
   "execution_count": 8,
   "id": "dd5c987f-9b46-46ad-8f4b-0080395fe24b",
   "metadata": {},
   "outputs": [],
   "source": [
    "gene_list = adata.var.index.tolist()"
   ]
  },
  {
   "cell_type": "code",
   "execution_count": 9,
   "id": "97e1da48-628e-4786-ba1d-41a1b68114af",
   "metadata": {},
   "outputs": [],
   "source": [
    "parts_to_remove = [\n",
    "    \"##  Summary\\n\",\n",
    "    \"NEW\",\n",
    "    'Try the newGene table',\n",
    "    'Try the newTranscript table',\n",
    "    '**',\n",
    "    \"\\nGo to the top of the page Help\\n\"\n",
    "]"
   ]
  },
  {
   "cell_type": "code",
   "execution_count": 10,
   "id": "70873ac1-2ada-4a84-8a4c-81983747e596",
   "metadata": {},
   "outputs": [],
   "source": [
    "def extract_gene_text(gene_number):\n",
    "    \n",
    "    url = f\"https://www.ncbi.nlm.nih.gov/gene/{gene_number}\"\n",
    "\n",
    "    summary_text = ''\n",
    "    soup = None\n",
    "    try:\n",
    "        response = requests.get(url, timeout=30)\n",
    "\n",
    "    except requests.exceptions.Timeout:\n",
    "\n",
    "        print('time out')\n",
    "\n",
    "    if response.status_code == 200:\n",
    "        soup = BeautifulSoup(response.content, 'html.parser')\n",
    "        summary_tab = soup.find('div', {'class': 'rprt-section gene-summary'})\n",
    "\n",
    "        if summary_tab:\n",
    "            html_to_text = html2text.HTML2Text()\n",
    "            html_to_text.ignore_links = True\n",
    "            summary_text = html_to_text.handle(str(summary_tab))\n",
    "            for part in parts_to_remove:\n",
    "                summary_text = summary_text.replace(part, ' ')\n",
    "\n",
    "            summary_text = summary_text.replace('\\n', ' ')\n",
    "            summary_text = ' '.join(summary_text.split())\n",
    "\n",
    "        else:\n",
    "            print(\"Summary tab not found on the page.\")\n",
    "    else:\n",
    "            print(f\"Failed to retrieve the webpage. Status code: {response.status_code}\")\n",
    "            \n",
    "    return((summary_text,soup))"
   ]
  },
  {
   "cell_type": "code",
   "execution_count": 11,
   "id": "69b2a6ac-267e-440e-baa3-9bf7fc5a7ffe",
   "metadata": {},
   "outputs": [
    {
     "name": "stderr",
     "output_type": "stream",
     "text": [
      "7 input query terms found no hit:\t['CLECL1', 'FAM49A', 'KARS', 'LARS', 'NARS', 'QARS', 'WARS']\n"
     ]
    }
   ],
   "source": [
    "gene_list_results = mg.querymany(sorted(gene_list), scopes='symbol', species='human')"
   ]
  },
  {
   "cell_type": "code",
   "execution_count": 12,
   "id": "8173ed46-3e23-49a7-abc7-854e8b312fd0",
   "metadata": {},
   "outputs": [],
   "source": [
    "gene_name_to_tax_id = {}\n",
    "for result in gene_list_results:\n",
    "    if \"_id\" in result and \"query\" in result:\n",
    "        gene_name_to_tax_id[result['symbol']] = result['_id']"
   ]
  },
  {
   "cell_type": "code",
   "execution_count": 13,
   "id": "aeb57d3b-19e1-40eb-83e2-15bfe1edc12b",
   "metadata": {},
   "outputs": [
    {
     "name": "stderr",
     "output_type": "stream",
     "text": [
      "100%|█████████████████████████████████████████████████████████████████████████████████████████████████████████████| 306/306 [00:29<00:00, 10.51it/s]\n"
     ]
    }
   ],
   "source": [
    "gene_name_to_summary_page = {}\n",
    "\n",
    "def process_gene_ids(args):\n",
    "    gene_name, page_id = args\n",
    "    parsed_text, _ = extract_gene_text(page_id)\n",
    "    return gene_name, parsed_text\n",
    "\n",
    "args_list = [(gene_name, page_id) for gene_name, page_id in gene_name_to_tax_id.items()]\n",
    "\n",
    "with mp.Pool() as pool:\n",
    "    results = list(tqdm(pool.imap(process_gene_ids, args_list), total=len(args_list)))"
   ]
  },
  {
   "cell_type": "code",
   "execution_count": 14,
   "id": "1ebc92a5-b2ac-4562-a965-18917fc425e8",
   "metadata": {},
   "outputs": [],
   "source": [
    "for gene_name, parsed_text in results:\n",
    "    gene_name_to_summary_page[gene_name] = parsed_text"
   ]
  },
  {
   "cell_type": "code",
   "execution_count": 15,
   "id": "0ad803d0-3132-4b34-9a73-5834e4537156",
   "metadata": {},
   "outputs": [],
   "source": [
    "with open('../../../data/BreastCancer10xGenomics_Rep1/exported_data/gene_data_from_ncbi_genept.json', 'w') as file:\n",
    "    json.dump(gene_name_to_summary_page, file)"
   ]
  },
  {
   "cell_type": "code",
   "execution_count": null,
   "id": "628dd53b-0d44-441f-8028-ff36c83e01bf",
   "metadata": {},
   "outputs": [],
   "source": []
  },
  {
   "cell_type": "code",
   "execution_count": null,
   "id": "795c4de7-2ca7-4850-9ac2-e1f893918131",
   "metadata": {},
   "outputs": [],
   "source": []
  },
  {
   "cell_type": "code",
   "execution_count": null,
   "id": "e331e424-dd6f-44a9-8ba9-2fd2a0102007",
   "metadata": {},
   "outputs": [],
   "source": []
  },
  {
   "cell_type": "code",
   "execution_count": null,
   "id": "6d125f5c-1e9d-4440-9bf6-bf699c24b273",
   "metadata": {},
   "outputs": [],
   "source": []
  },
  {
   "cell_type": "code",
   "execution_count": null,
   "id": "7905963a-6e3b-4e23-a992-c34ec2c59410",
   "metadata": {},
   "outputs": [],
   "source": []
  },
  {
   "cell_type": "code",
   "execution_count": null,
   "id": "e0a6a2fd-5c57-48b7-b08f-b438a9e22f72",
   "metadata": {},
   "outputs": [],
   "source": []
  },
  {
   "cell_type": "code",
   "execution_count": null,
   "id": "095da212-b173-4e91-a6fd-981f69d80fcd",
   "metadata": {},
   "outputs": [],
   "source": []
  }
 ],
 "metadata": {
  "kernelspec": {
   "display_name": "Python 3 (ipykernel)",
   "language": "python",
   "name": "python3"
  },
  "language_info": {
   "codemirror_mode": {
    "name": "ipython",
    "version": 3
   },
   "file_extension": ".py",
   "mimetype": "text/x-python",
   "name": "python",
   "nbconvert_exporter": "python",
   "pygments_lexer": "ipython3",
   "version": "3.11.5"
  }
 },
 "nbformat": 4,
 "nbformat_minor": 5
}
